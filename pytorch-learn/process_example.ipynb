{
 "cells": [
  {
   "cell_type": "code",
   "execution_count": 1,
   "outputs": [],
   "source": [
    "import torch\n",
    "import torch.nn as nn\n",
    "import torch.nn.functional as F\n",
    "import torch.optim as optim\n",
    "from torchvision import transforms\n",
    "from torch.utils.data import DataLoader, Dataset, TensorDataset\n",
    "import numpy as np"
   ],
   "metadata": {
    "collapsed": false,
    "pycharm": {
     "name": "#%%\n"
    }
   }
  },
  {
   "cell_type": "code",
   "execution_count": 2,
   "outputs": [],
   "source": [
    "epoch_num = 5\n",
    "batch_size_num = 1"
   ],
   "metadata": {
    "collapsed": false,
    "pycharm": {
     "name": "#%%\n"
    }
   }
  },
  {
   "cell_type": "code",
   "execution_count": 3,
   "outputs": [],
   "source": [
    "xs = torch.rand(100,10)\n",
    "ys = torch.rand(100,2)\n",
    "\n",
    "data_set = TensorDataset(xs, ys)\n",
    "data_loader = DataLoader(data_set, batch_size = batch_size_num)"
   ],
   "metadata": {
    "collapsed": false,
    "pycharm": {
     "name": "#%%\n"
    }
   }
  },
  {
   "cell_type": "code",
   "execution_count": 4,
   "outputs": [],
   "source": [
    "class Net(nn.Module):\n",
    "    def __init__(self):\n",
    "        super(Net, self).__init__()\n",
    "        self.fc1 = nn.Linear(10, 32)\n",
    "        self.fc2 = nn.Linear(32, 64)\n",
    "        self.fc3 = nn.Linear(64, 32)\n",
    "        self.fc4 = nn.Linear(32, 2)\n",
    "\n",
    "    def forward(self, x):\n",
    "        x = F.relu(self.fc1(x))\n",
    "        x = F.relu(self.fc2(x))\n",
    "        x = F.relu(self.fc3(x))\n",
    "        x = F.relu(self.fc4(x))\n",
    "        return x\n",
    "\n",
    "    def num_flat_features(self, x):\n",
    "        size = x.size()[1:]  # all dimensions except the batch dimension\n",
    "        num_features = 1\n",
    "        for s in size:\n",
    "            num_features *= s\n",
    "        return num_features\n",
    "\n",
    "net = Net()"
   ],
   "metadata": {
    "collapsed": false,
    "pycharm": {
     "name": "#%%\n"
    }
   }
  },
  {
   "cell_type": "code",
   "execution_count": 5,
   "outputs": [],
   "source": [
    "criterion = nn.CrossEntropyLoss()\n",
    "optimizer = optim.SGD(net.parameters(), lr=0.001, momentum=0.9)"
   ],
   "metadata": {
    "collapsed": false,
    "pycharm": {
     "name": "#%%\n"
    }
   }
  },
  {
   "cell_type": "code",
   "execution_count": 8,
   "outputs": [
    {
     "name": "stdout",
     "output_type": "stream",
     "text": [
      "Train Epoch: 1 [10/100 (10%)]\tLoss: 1.018258\n",
      "Train Epoch: 1 [20/100 (20%)]\tLoss: 0.927393\n",
      "Train Epoch: 1 [30/100 (30%)]\tLoss: 0.550822\n",
      "Train Epoch: 1 [40/100 (40%)]\tLoss: 1.195645\n",
      "Train Epoch: 1 [50/100 (50%)]\tLoss: 0.998717\n",
      "Train Epoch: 1 [60/100 (60%)]\tLoss: 0.654987\n",
      "Train Epoch: 1 [70/100 (70%)]\tLoss: 0.538709\n",
      "Train Epoch: 1 [80/100 (80%)]\tLoss: 0.476684\n",
      "Train Epoch: 1 [90/100 (90%)]\tLoss: 0.185401\n",
      "Train Epoch: 1 [100/100 (100%)]\tLoss: 1.071887\n",
      "Train Epoch: 2 [10/100 (10%)]\tLoss: 1.018258\n",
      "Train Epoch: 2 [20/100 (20%)]\tLoss: 0.927393\n",
      "Train Epoch: 2 [30/100 (30%)]\tLoss: 0.550822\n",
      "Train Epoch: 2 [40/100 (40%)]\tLoss: 1.195645\n",
      "Train Epoch: 2 [50/100 (50%)]\tLoss: 0.998717\n",
      "Train Epoch: 2 [60/100 (60%)]\tLoss: 0.654987\n",
      "Train Epoch: 2 [70/100 (70%)]\tLoss: 0.538709\n",
      "Train Epoch: 2 [80/100 (80%)]\tLoss: 0.476684\n",
      "Train Epoch: 2 [90/100 (90%)]\tLoss: 0.185401\n",
      "Train Epoch: 2 [100/100 (100%)]\tLoss: 1.071887\n",
      "Train Epoch: 3 [10/100 (10%)]\tLoss: 1.018258\n",
      "Train Epoch: 3 [20/100 (20%)]\tLoss: 0.927393\n",
      "Train Epoch: 3 [30/100 (30%)]\tLoss: 0.550822\n",
      "Train Epoch: 3 [40/100 (40%)]\tLoss: 1.195645\n",
      "Train Epoch: 3 [50/100 (50%)]\tLoss: 0.998717\n",
      "Train Epoch: 3 [60/100 (60%)]\tLoss: 0.654987\n",
      "Train Epoch: 3 [70/100 (70%)]\tLoss: 0.538709\n",
      "Train Epoch: 3 [80/100 (80%)]\tLoss: 0.476684\n",
      "Train Epoch: 3 [90/100 (90%)]\tLoss: 0.185401\n",
      "Train Epoch: 3 [100/100 (100%)]\tLoss: 1.071887\n",
      "Train Epoch: 4 [10/100 (10%)]\tLoss: 1.018258\n",
      "Train Epoch: 4 [20/100 (20%)]\tLoss: 0.927393\n",
      "Train Epoch: 4 [30/100 (30%)]\tLoss: 0.550822\n",
      "Train Epoch: 4 [40/100 (40%)]\tLoss: 1.195645\n",
      "Train Epoch: 4 [50/100 (50%)]\tLoss: 0.998717\n",
      "Train Epoch: 4 [60/100 (60%)]\tLoss: 0.654987\n",
      "Train Epoch: 4 [70/100 (70%)]\tLoss: 0.538709\n",
      "Train Epoch: 4 [80/100 (80%)]\tLoss: 0.476684\n",
      "Train Epoch: 4 [90/100 (90%)]\tLoss: 0.185401\n",
      "Train Epoch: 4 [100/100 (100%)]\tLoss: 1.071887\n",
      "Train Epoch: 5 [10/100 (10%)]\tLoss: 1.018258\n",
      "Train Epoch: 5 [20/100 (20%)]\tLoss: 0.927393\n",
      "Train Epoch: 5 [30/100 (30%)]\tLoss: 0.550822\n",
      "Train Epoch: 5 [40/100 (40%)]\tLoss: 1.195645\n",
      "Train Epoch: 5 [50/100 (50%)]\tLoss: 0.998717\n",
      "Train Epoch: 5 [60/100 (60%)]\tLoss: 0.654987\n",
      "Train Epoch: 5 [70/100 (70%)]\tLoss: 0.538709\n",
      "Train Epoch: 5 [80/100 (80%)]\tLoss: 0.476684\n",
      "Train Epoch: 5 [90/100 (90%)]\tLoss: 0.185401\n",
      "Train Epoch: 5 [100/100 (100%)]\tLoss: 1.071887\n",
      "Finished Training\n"
     ]
    }
   ],
   "source": [
    "net.train()\n",
    "for epoch in range(epoch_num):  # loop over the dataset multiple times\n",
    "    running_loss = 0.0\n",
    "    for batch_idx, data in enumerate(data_loader,1):\n",
    "        # get the inputs; data is a list of [inputs, labels]\n",
    "        inputs, labels = data\n",
    "        # zero the parameter gradients\n",
    "        optimizer.zero_grad()\n",
    "        outputs = net(inputs)\n",
    "        loss = criterion(outputs, labels)\n",
    "        loss.backward()\n",
    "        optimizer.step()\n",
    "\n",
    "        # running_loss += loss.item()\n",
    "        # print statistics\n",
    "        if batch_idx % 10 == 0:\n",
    "            print('Train Epoch: {} [{}/{} ({:.0f}%)]\\tLoss: {:.6f}'.format(\n",
    "                epoch + 1, batch_idx * len(inputs), len(data_loader.dataset),\n",
    "                   100. * batch_idx / len(data_loader), loss.item()))\n",
    "\n",
    "print('Finished Training')"
   ],
   "metadata": {
    "collapsed": false,
    "pycharm": {
     "name": "#%%\n"
    }
   }
  },
  {
   "cell_type": "code",
   "execution_count": 9,
   "outputs": [
    {
     "name": "stdout",
     "output_type": "stream",
     "text": [
      "tensor(0.5538)\n",
      "tensor(1.1300)\n",
      "tensor(0.0797)\n",
      "tensor(1.2277)\n",
      "tensor(0.5826)\n",
      "tensor(0.4536)\n",
      "tensor(0.2202)\n",
      "tensor(0.4890)\n",
      "tensor(0.7528)\n",
      "tensor(1.0183)\n",
      "tensor(0.8067)\n",
      "tensor(0.7930)\n",
      "tensor(0.4979)\n",
      "tensor(0.9637)\n",
      "tensor(0.6883)\n",
      "tensor(0.6864)\n",
      "tensor(0.9217)\n",
      "tensor(0.6027)\n",
      "tensor(0.5463)\n",
      "tensor(0.9274)\n",
      "tensor(0.6833)\n",
      "tensor(0.9312)\n",
      "tensor(0.5385)\n",
      "tensor(1.1388)\n",
      "tensor(0.8692)\n",
      "tensor(0.6469)\n",
      "tensor(0.0851)\n",
      "tensor(1.0425)\n",
      "tensor(0.7644)\n",
      "tensor(0.5508)\n",
      "tensor(0.8444)\n",
      "tensor(1.1351)\n",
      "tensor(0.9278)\n",
      "tensor(0.7673)\n",
      "tensor(0.6610)\n",
      "tensor(0.1729)\n",
      "tensor(0.2707)\n",
      "tensor(0.8440)\n",
      "tensor(0.6807)\n",
      "tensor(1.1956)\n",
      "tensor(0.3706)\n",
      "tensor(0.2900)\n",
      "tensor(0.9909)\n",
      "tensor(0.3169)\n",
      "tensor(0.8377)\n",
      "tensor(0.3696)\n",
      "tensor(0.7263)\n",
      "tensor(1.0856)\n",
      "tensor(0.8859)\n",
      "tensor(0.9987)\n",
      "tensor(0.7899)\n",
      "tensor(0.4843)\n",
      "tensor(1.1485)\n",
      "tensor(0.4910)\n",
      "tensor(1.1245)\n",
      "tensor(0.9782)\n",
      "tensor(0.9208)\n",
      "tensor(0.7654)\n",
      "tensor(0.9023)\n",
      "tensor(0.6550)\n",
      "tensor(1.0047)\n",
      "tensor(0.7631)\n",
      "tensor(0.5928)\n",
      "tensor(0.0847)\n",
      "tensor(0.8713)\n",
      "tensor(0.8714)\n",
      "tensor(0.8277)\n",
      "tensor(1.1180)\n",
      "tensor(1.0675)\n",
      "tensor(0.5387)\n",
      "tensor(1.1773)\n",
      "tensor(0.8992)\n",
      "tensor(0.7275)\n",
      "tensor(0.5170)\n",
      "tensor(0.3094)\n",
      "tensor(0.6780)\n",
      "tensor(0.8823)\n",
      "tensor(0.5315)\n",
      "tensor(0.5685)\n",
      "tensor(0.4767)\n",
      "tensor(1.1549)\n",
      "tensor(0.6821)\n",
      "tensor(0.4863)\n",
      "tensor(0.4380)\n",
      "tensor(0.1534)\n",
      "tensor(0.3842)\n",
      "tensor(0.6322)\n",
      "tensor(0.8854)\n",
      "tensor(0.8771)\n",
      "tensor(0.1854)\n",
      "tensor(0.6006)\n",
      "tensor(1.1520)\n",
      "tensor(0.5042)\n",
      "tensor(0.4603)\n",
      "tensor(0.7939)\n",
      "tensor(0.1813)\n",
      "tensor(0.7017)\n",
      "tensor(1.0116)\n",
      "tensor(0.6501)\n",
      "tensor(1.0719)\n"
     ]
    }
   ],
   "source": [
    "net.eval()\n",
    "running_loss = 0\n",
    "for batch_idx, data in enumerate(data_loader,1):\n",
    "    inputs, labels = data\n",
    "    with torch.no_grad():\n",
    "        pred = net(inputs)\n",
    "        loss = criterion(outputs, labels)\n",
    "\n",
    "    print(loss)\n",
    "    # print statistics"
   ],
   "metadata": {
    "collapsed": false,
    "pycharm": {
     "name": "#%%\n"
    }
   }
  },
  {
   "cell_type": "code",
   "execution_count": null,
   "outputs": [],
   "source": [],
   "metadata": {
    "collapsed": false,
    "pycharm": {
     "name": "#%%\n"
    }
   }
  }
 ],
 "metadata": {
  "kernelspec": {
   "display_name": "Python 3",
   "language": "python",
   "name": "python3"
  },
  "language_info": {
   "codemirror_mode": {
    "name": "ipython",
    "version": 2
   },
   "file_extension": ".py",
   "mimetype": "text/x-python",
   "name": "python",
   "nbconvert_exporter": "python",
   "pygments_lexer": "ipython2",
   "version": "2.7.6"
  }
 },
 "nbformat": 4,
 "nbformat_minor": 0
}