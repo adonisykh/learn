{
 "cells": [
  {
   "cell_type": "markdown",
   "source": [],
   "metadata": {
    "collapsed": false,
    "pycharm": {
     "name": "#%% md\n"
    }
   }
  },
  {
   "cell_type": "code",
   "execution_count": 2,
   "outputs": [],
   "source": [
    "import torch\n",
    "from torchvision import datasets, transforms\n",
    "from torch.utils.data import DataLoader, Dataset, TensorDataset\n",
    "import numpy as np"
   ],
   "metadata": {
    "collapsed": false,
    "pycharm": {
     "name": "#%%\n"
    }
   }
  },
  {
   "cell_type": "code",
   "source": [
    "\n",
    "xs = torch.rand(10,9,8)\n",
    "ys = torch.rand(10)\n",
    "print(xs.shape)\n",
    "print(ys.shape)"
   ],
   "metadata": {
    "collapsed": false,
    "pycharm": {
     "name": "#%%\n"
    }
   },
   "execution_count": null,
   "outputs": []
  },
  {
   "cell_type": "code",
   "execution_count": 4,
   "id": "af5acbee-4d8a-43d2-a2c2-8f1d48500ff7",
   "metadata": {},
   "outputs": [],
   "source": [
    "class MyDataset(Dataset):\n",
    "    \n",
    "    def __init__(self):\n",
    "        self.xs = xs\n",
    "        self.ys = ys\n",
    "\n",
    "    '''__getitem__\n",
    "            一般是返回一组样本和标签，即一组x,y。\n",
    "            其实也可以返回任意大小的元组，也可以返回字典类型的数据。\n",
    "            这个函数和DataLoader的collate_fn配合使用。\n",
    "    '''\n",
    "    def __getitem__(self, index):\n",
    "        return self.xs[index], self.ys[index]\n",
    "\n",
    "    def __len__(self):\n",
    "        return len(self.xs)\n",
    "\n",
    "\n",
    "# 实例化自定义dataset\n",
    "dataset = MyDataset()"
   ]
  },
  {
   "cell_type": "code",
   "execution_count": 5,
   "id": "7de50071-53b2-4efb-ad81-89ad3c7c1459",
   "metadata": {},
   "outputs": [
    {
     "name": "stdout",
     "output_type": "stream",
     "text": [
      "torch.Size([9, 8])\n",
      "tensor(0.3522)\n"
     ]
    }
   ],
   "source": [
    "x,y = dataset.__getitem__(1)\n",
    "\n",
    "print(x.shape)\n",
    "print(y)"
   ]
  },
  {
   "cell_type": "code",
   "execution_count": 6,
   "id": "be1f3828-6cb0-4da5-b50a-1f11170db860",
   "metadata": {},
   "outputs": [
    {
     "name": "stdout",
     "output_type": "stream",
     "text": [
      "torch.Size([9, 8])\n",
      "tensor(0.3522)\n"
     ]
    }
   ],
   "source": [
    "# 简单的dataset可以直接用TensorDataset\n",
    "dataset = TensorDataset(xs, ys)\n",
    "x,y = dataset.__getitem__(1)\n",
    "\n",
    "print(x.shape)\n",
    "print(y)"
   ]
  },
  {
   "cell_type": "code",
   "execution_count": 6,
   "id": "e424f806-113a-4433-a4e4-c5068d4bfbd8",
   "metadata": {},
   "outputs": [],
   "source": []
  }
 ],
 "metadata": {
  "kernelspec": {
   "display_name": "Python 3 (ipykernel)",
   "language": "python",
   "name": "python3"
  },
  "language_info": {
   "codemirror_mode": {
    "name": "ipython",
    "version": 3
   },
   "file_extension": ".py",
   "mimetype": "text/x-python",
   "name": "python",
   "nbconvert_exporter": "python",
   "pygments_lexer": "ipython3",
   "version": "3.9.7"
  }
 },
 "nbformat": 4,
 "nbformat_minor": 5
}