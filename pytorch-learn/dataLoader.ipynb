{
 "cells": [
  {
   "cell_type": "code",
   "execution_count": 2,
   "metadata": {
    "pycharm": {
     "name": "#%%\n"
    }
   },
   "outputs": [],
   "source": [
    "import torch\n",
    "from torchvision import datasets, transforms\n",
    "from torch.utils.data import DataLoader, Dataset, TensorDataset\n",
    "import numpy as np"
   ]
  },
  {
   "cell_type": "code",
   "execution_count": 3,
   "metadata": {
    "colab": {
     "base_uri": "https://localhost:8080/"
    },
    "id": "aTAKj0PZG9PO",
    "outputId": "1e738041-a49d-4d12-e4ca-5bbab8e800e6"
   },
   "outputs": [
    {
     "name": "stdout",
     "output_type": "stream",
     "text": [
      "torch.Size([10, 9, 8])\n",
      "torch.Size([10])\n"
     ]
    }
   ],
   "source": [
    "xs = torch.rand(10,9,8)\n",
    "ys = torch.rand(10)\n",
    "print(xs.shape)\n",
    "print(ys.shape)"
   ]
  },
  {
   "cell_type": "code",
   "execution_count": 4,
   "metadata": {
    "colab": {
     "base_uri": "https://localhost:8080/"
    },
    "id": "9t8M57DYHhGb",
    "outputId": "fa85c922-0e36-4b08-88bb-e2c9831edf24"
   },
   "outputs": [
    {
     "name": "stdout",
     "output_type": "stream",
     "text": [
      "batch: 0      shape: torch.Size([1, 9, 8])\n",
      "batch: 1      shape: torch.Size([1, 9, 8])\n",
      "batch: 2      shape: torch.Size([1, 9, 8])\n",
      "batch: 3      shape: torch.Size([1, 9, 8])\n",
      "batch: 4      shape: torch.Size([1, 9, 8])\n",
      "batch: 5      shape: torch.Size([1, 9, 8])\n",
      "batch: 6      shape: torch.Size([1, 9, 8])\n",
      "batch: 7      shape: torch.Size([1, 9, 8])\n",
      "batch: 8      shape: torch.Size([1, 9, 8])\n",
      "batch: 9      shape: torch.Size([1, 9, 8])\n"
     ]
    }
   ],
   "source": [
    "dataset = TensorDataset(xs, ys)\n",
    "dataloader = DataLoader(dataset, batch_size=1)\n",
    "for i, (x, y) in enumerate(dataloader):\n",
    "    print(\"batch:\",i,\"     shape:\",x.shape)"
   ]
  },
  {
   "cell_type": "code",
   "execution_count": 5,
   "metadata": {
    "colab": {
     "base_uri": "https://localhost:8080/"
    },
    "id": "erc7VX9BJDVJ",
    "outputId": "850c8722-5bc1-4be0-d6f1-4284b4094d67"
   },
   "outputs": [
    {
     "name": "stdout",
     "output_type": "stream",
     "text": [
      "batch: 0      shape: torch.Size([2, 9, 8])\n",
      "batch: 1      shape: torch.Size([2, 9, 8])\n",
      "batch: 2      shape: torch.Size([2, 9, 8])\n",
      "batch: 3      shape: torch.Size([2, 9, 8])\n",
      "batch: 4      shape: torch.Size([2, 9, 8])\n"
     ]
    }
   ],
   "source": [
    "dataset = TensorDataset(xs, ys)\n",
    "dataloader = DataLoader(dataset, batch_size=2)\n",
    "for i, (x, y) in enumerate(dataloader):\n",
    "    print(\"batch:\",i,\"     shape:\",x.shape)"
   ]
  },
  {
   "cell_type": "code",
   "execution_count": 5,
   "metadata": {
    "id": "ybKfIi5KIlM4"
   },
   "outputs": [],
   "source": []
  }
 ],
 "metadata": {
  "colab": {
   "name": "test.ipynb",
   "provenance": []
  },
  "kernelspec": {
   "display_name": "Python 3 (ipykernel)",
   "language": "python",
   "name": "python3"
  },
  "language_info": {
   "codemirror_mode": {
    "name": "ipython",
    "version": 3
   },
   "file_extension": ".py",
   "mimetype": "text/x-python",
   "name": "python",
   "nbconvert_exporter": "python",
   "pygments_lexer": "ipython3",
   "version": "3.9.7"
  }
 },
 "nbformat": 4,
 "nbformat_minor": 4
}