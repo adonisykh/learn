{
 "cells": [
  {
   "cell_type": "code",
   "execution_count": 1,
   "id": "340e7075-d8ea-451a-8562-345613366beb",
   "metadata": {},
   "outputs": [],
   "source": [
    "import torch"
   ]
  },
  {
   "cell_type": "code",
   "execution_count": 2,
   "id": "45880c34-06aa-4108-926f-1589cc18a1af",
   "metadata": {},
   "outputs": [
    {
     "name": "stdout",
     "output_type": "stream",
     "text": [
      "tensor([5.5000, 3.2000])\n"
     ]
    }
   ],
   "source": [
    "#从已有矩阵转化为张量\n",
    "print(torch.tensor([5.5, 3.2]))"
   ]
  },
  {
   "cell_type": "code",
   "execution_count": 3,
   "id": "44ea3778-3c6b-4dfc-a5be-c2a80b469ff8",
   "metadata": {},
   "outputs": [
    {
     "name": "stdout",
     "output_type": "stream",
     "text": [
      "tensor([[ 0.0000e+00,  1.5846e+29, -1.8350e+09],\n",
      "        [ 2.0005e+00, -8.3587e+19,  4.5755e-41],\n",
      "        [-8.4267e+19,  4.5755e-41, -8.3909e+19],\n",
      "        [ 4.5755e-41, -8.3909e+19,  4.5755e-41],\n",
      "        [-1.6764e+29,  4.5755e-41, -1.7063e+29]])\n"
     ]
    }
   ],
   "source": [
    "# 这个是用来生成一个为未初始化的5*3的张量，切记不是全零\n",
    "print(torch.empty(5, 3))"
   ]
  },
  {
   "cell_type": "code",
   "execution_count": 4,
   "id": "cf7c2c08-15b2-48b0-9fd6-20be98a7ff75",
   "metadata": {},
   "outputs": [
    {
     "name": "stdout",
     "output_type": "stream",
     "text": [
      "tensor([[0.2799, 0.6685, 0.3923],\n",
      "        [0.5928, 0.4193, 0.4043],\n",
      "        [0.8728, 0.5172, 0.8348],\n",
      "        [0.3985, 0.8437, 0.2077],\n",
      "        [0.6926, 0.2033, 0.1708]])\n"
     ]
    }
   ],
   "source": [
    "# 这个是生成一个均匀分布的初始化的，每个元素从0~1的张量，\n",
    "print(torch.rand(5, 3))"
   ]
  },
  {
   "cell_type": "code",
   "execution_count": 5,
   "id": "90c78928-c790-4f9e-96ec-539cca5e7701",
   "metadata": {},
   "outputs": [
    {
     "name": "stdout",
     "output_type": "stream",
     "text": [
      "tensor([[-1.4553,  0.1593,  0.2066],\n",
      "        [-1.6084, -0.3796,  0.3909],\n",
      "        [ 0.3753, -0.9722,  0.4694],\n",
      "        [ 0.3931,  1.6018,  1.4046],\n",
      "        [ 0.8020,  0.8427, -1.2993]])\n",
      "tensor([[0.6766, 0.7906, 0.8387],\n",
      "        [0.7158, 1.1844, 1.0028],\n",
      "        [1.1309, 1.0851, 1.3367],\n",
      "        [1.5368, 1.4155, 1.0650],\n",
      "        [0.5748, 1.9145, 1.6714]])\n"
     ]
    }
   ],
   "source": [
    "# 另外，还有其它的随机张量生成函数，如，分别是标准正态分布，离散正态分布\n",
    "\n",
    "#标准正态分布\n",
    "#torch.normal(A, B ,size(C, D), requires_grad=True)\n",
    "print(torch.randn(5,3)) \n",
    "\n",
    "#离散正态分布\n",
    "#torch.normal(A, B ,size(C, D), requires_grad=True)\n",
    "print(torch.normal(1,0.5,(5,3)))"
   ]
  },
  {
   "cell_type": "code",
   "execution_count": 6,
   "id": "9e0ed61c-86ad-40e9-a49b-9f6da1e0b4a1",
   "metadata": {},
   "outputs": [
    {
     "name": "stdout",
     "output_type": "stream",
     "text": [
      "tensor([[0, 0, 0],\n",
      "        [0, 0, 0],\n",
      "        [0, 0, 0],\n",
      "        [0, 0, 0],\n",
      "        [0, 0, 0]])\n",
      "tensor([[1., 1., 1.],\n",
      "        [1., 1., 1.],\n",
      "        [1., 1., 1.],\n",
      "        [1., 1., 1.],\n",
      "        [1., 1., 1.]])\n",
      "tensor([[1, 1, 1],\n",
      "        [1, 1, 1],\n",
      "        [1, 1, 1],\n",
      "        [1, 1, 1],\n",
      "        [1, 1, 1]])\n",
      "tensor([[0.5551, 0.1802, 0.6126],\n",
      "        [0.4063, 0.2422, 0.1208],\n",
      "        [0.6385, 0.0547, 0.9422],\n",
      "        [0.6098, 0.4929, 0.5193],\n",
      "        [0.1668, 0.0810, 0.1012]])\n"
     ]
    }
   ],
   "source": [
    "# 这个是初始化一个全零张量，可以指定每个元素的类型。\n",
    "x = torch.zeros(5, 3, dtype=torch.long)\n",
    "print(x)\n",
    "\n",
    "# 全一张量\n",
    "print(torch.ones(5,3))\n",
    "\n",
    "# 创建一个形状和x一样，里面全是1的张量\n",
    "y = torch.ones_like(x)\n",
    "print(y)\n",
    "\n",
    "# 创建一个形状和x一样，每个元素随机的张量\n",
    "x = torch.rand_like(x, dtype=torch.float)\n",
    "print(x)"
   ]
  },
  {
   "cell_type": "code",
   "execution_count": 7,
   "id": "3cc0cbbe-5599-4353-a55e-f466b6d5f014",
   "metadata": {},
   "outputs": [
    {
     "name": "stdout",
     "output_type": "stream",
     "text": [
      "torch.Size([16])\n",
      "torch.Size([16])\n",
      "torch.Size([2, 2, 4])\n",
      "torch.Size([2, 2, 4])\n"
     ]
    }
   ],
   "source": [
    "# 修改张量的shape\n",
    "x = torch.randn(4, 4)\n",
    "\n",
    "\n",
    "y = x.view(-1)\n",
    "y1 = x.view(16)\n",
    "print(y.shape)\n",
    "print(y1.shape)\n",
    "\n",
    "# -1的作用是让这个维度的值取决于其他维度（最后决定）\n",
    "z = x.view(2, 2,-1)\n",
    "z1 = x.view(2, 2,-1)\n",
    "print(z.shape)\n",
    "print(z1.shape)"
   ]
  },
  {
   "cell_type": "markdown",
   "id": "6622119d-1512-455c-8eec-b24feb098917",
   "metadata": {},
   "source": [
    "从已有矩阵转化为张量"
   ]
  },
  {
   "cell_type": "code",
   "execution_count": 8,
   "id": "197d359c-b7a8-43a1-86ed-ab13aee00e62",
   "metadata": {},
   "outputs": [
    {
     "name": "stdout",
     "output_type": "stream",
     "text": [
      "torch.Size([1, 2, 3])\n",
      "torch.Size([2, 1, 3])\n",
      "torch.Size([2, 3, 1])\n"
     ]
    }
   ],
   "source": [
    "# 在指定dim出插入1维度\n",
    "x = torch.zeros([2,3])\n",
    "print(x.unsqueeze(0).shape)\n",
    "print(x.unsqueeze(1).shape)\n",
    "print(x.unsqueeze(2).shape)"
   ]
  },
  {
   "cell_type": "code",
   "execution_count": 9,
   "id": "5301a012-e336-4f48-9eb7-d3c632c01ee8",
   "metadata": {},
   "outputs": [
    {
     "name": "stdout",
     "output_type": "stream",
     "text": [
      "torch.Size([2, 3, 1])\n",
      "torch.Size([1, 2, 3, 1])\n",
      "torch.Size([1, 2, 3, 1])\n",
      "torch.Size([1, 2, 3])\n"
     ]
    }
   ],
   "source": [
    "# 在指定dim出删除1维（当且仅当dim处值为1才有效）\n",
    "x = torch.zeros([1,2,3,1])\n",
    "print(x.squeeze(0).shape)\n",
    "print(x.squeeze(1).shape)\n",
    "print(x.squeeze(2).shape)\n",
    "print(x.squeeze(3).shape)"
   ]
  },
  {
   "cell_type": "code",
   "execution_count": 9,
   "id": "4f59ddcf-23a0-47d9-9a5f-3a19a9f66e7c",
   "metadata": {},
   "outputs": [],
   "source": []
  }
 ],
 "metadata": {
  "kernelspec": {
   "display_name": "Python 3 (ipykernel)",
   "language": "python",
   "name": "python3"
  },
  "language_info": {
   "codemirror_mode": {
    "name": "ipython",
    "version": 3
   },
   "file_extension": ".py",
   "mimetype": "text/x-python",
   "name": "python",
   "nbconvert_exporter": "python",
   "pygments_lexer": "ipython3",
   "version": "3.9.7"
  }
 },
 "nbformat": 4,
 "nbformat_minor": 5
}