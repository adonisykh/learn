{
 "cells": [
  {
   "cell_type": "markdown",
   "source": [
    "#Tensor\n"
   ],
   "metadata": {
    "id": "X9wEQBx3QuyU"
   },
   "id": "X9wEQBx3QuyU"
  },
  {
   "cell_type": "code",
   "execution_count": null,
   "id": "340e7075-d8ea-451a-8562-345613366beb",
   "metadata": {
    "id": "340e7075-d8ea-451a-8562-345613366beb"
   },
   "outputs": [],
   "source": [
    "import torch"
   ]
  },
  {
   "cell_type": "code",
   "execution_count": null,
   "id": "45880c34-06aa-4108-926f-1589cc18a1af",
   "metadata": {
    "id": "45880c34-06aa-4108-926f-1589cc18a1af",
    "outputId": "3e5dc0bf-6ab3-4460-9f87-af59518b07db"
   },
   "outputs": [
    {
     "name": "stdout",
     "output_type": "stream",
     "text": [
      "tensor([5.5000, 3.2000])\n"
     ]
    }
   ],
   "source": [
    "#从已有矩阵转化为张量\n",
    "print(torch.tensor([5.5, 3.2]))"
   ]
  },
  {
   "cell_type": "code",
   "execution_count": null,
   "id": "44ea3778-3c6b-4dfc-a5be-c2a80b469ff8",
   "metadata": {
    "id": "44ea3778-3c6b-4dfc-a5be-c2a80b469ff8",
    "outputId": "5047a929-c7d7-40e3-e059-2178175a3532"
   },
   "outputs": [
    {
     "name": "stdout",
     "output_type": "stream",
     "text": [
      "tensor([[ 0.1496,  0.9377, -1.3706],\n",
      "        [-1.8573,  1.7874, -0.5040],\n",
      "        [ 0.3557,  0.3984,  0.0616],\n",
      "        [-0.0474, -0.9266, -1.5545],\n",
      "        [-0.2086,  0.1188, -0.5464]])\n"
     ]
    }
   ],
   "source": [
    "# 这个是用来生成一个为未初始化的5*3的张量，切记不是全零\n",
    "print(torch.empty(5, 3))"
   ]
  },
  {
   "cell_type": "code",
   "execution_count": null,
   "id": "cf7c2c08-15b2-48b0-9fd6-20be98a7ff75",
   "metadata": {
    "id": "cf7c2c08-15b2-48b0-9fd6-20be98a7ff75",
    "outputId": "d0d4b4c9-df2f-43fb-bd2a-1d7a7abe10f2"
   },
   "outputs": [
    {
     "name": "stdout",
     "output_type": "stream",
     "text": [
      "tensor([[0.9584, 0.1837, 0.5320],\n",
      "        [0.7223, 0.1257, 0.1990],\n",
      "        [0.9636, 0.9487, 0.4243],\n",
      "        [0.2303, 0.1915, 0.5227],\n",
      "        [0.1292, 0.8817, 0.0769]])\n"
     ]
    }
   ],
   "source": [
    "# 这个是生成一个均匀分布的初始化的，每个元素从0~1的张量，\n",
    "print(torch.rand(5, 3))"
   ]
  },
  {
   "cell_type": "code",
   "execution_count": null,
   "id": "90c78928-c790-4f9e-96ec-539cca5e7701",
   "metadata": {
    "id": "90c78928-c790-4f9e-96ec-539cca5e7701",
    "outputId": "fa79e44f-658e-47d4-e979-a903010de6f6"
   },
   "outputs": [
    {
     "name": "stdout",
     "output_type": "stream",
     "text": [
      "tensor([[ 1.0869, -0.3379,  0.1597],\n",
      "        [ 0.6697,  0.7095,  1.3215],\n",
      "        [ 0.2934, -0.7937,  0.2163],\n",
      "        [-0.8328, -0.4740, -0.4225],\n",
      "        [-0.8890,  1.6176,  0.3179]])\n",
      "tensor([[1.0396, 1.2248, 0.8010],\n",
      "        [0.8727, 0.8931, 0.8677],\n",
      "        [1.6406, 0.5206, 0.4740],\n",
      "        [2.0873, 1.5374, 0.1397],\n",
      "        [0.7964, 2.0700, 1.6596]])\n"
     ]
    }
   ],
   "source": [
    "# 另外，还有其它的随机张量生成函数，如，分别是标准正态分布，离散正态分布\n",
    "\n",
    "#标准正态分布\n",
    "#torch.normal(A, B ,size(C, D), requires_grad=True)\n",
    "print(torch.randn(5,3)) \n",
    "\n",
    "#离散正态分布\n",
    "#torch.normal(A, B ,size(C, D), requires_grad=True)\n",
    "print(torch.normal(1,0.5,(5,3)))"
   ]
  },
  {
   "cell_type": "code",
   "execution_count": null,
   "id": "9e0ed61c-86ad-40e9-a49b-9f6da1e0b4a1",
   "metadata": {
    "id": "9e0ed61c-86ad-40e9-a49b-9f6da1e0b4a1",
    "outputId": "ef94fd57-6394-447e-aabf-e6c66ac6b032"
   },
   "outputs": [
    {
     "name": "stdout",
     "output_type": "stream",
     "text": [
      "tensor([[0, 0, 0],\n",
      "        [0, 0, 0],\n",
      "        [0, 0, 0],\n",
      "        [0, 0, 0],\n",
      "        [0, 0, 0]])\n"
     ]
    }
   ],
   "source": [
    "# 这个是初始化一个全零张量，可以指定每个元素的类型。\n",
    "x = torch.zeros(5, 3, dtype=torch.long)\n",
    "print(x)"
   ]
  },
  {
   "cell_type": "code",
   "execution_count": null,
   "outputs": [
    {
     "name": "stdout",
     "output_type": "stream",
     "text": [
      "tensor([[1., 1., 1.],\n",
      "        [1., 1., 1.],\n",
      "        [1., 1., 1.],\n",
      "        [1., 1., 1.],\n",
      "        [1., 1., 1.]])\n"
     ]
    }
   ],
   "source": [
    "# 全一张量\n",
    "print(torch.ones(5,3))"
   ],
   "metadata": {
    "pycharm": {
     "name": "#%%\n"
    },
    "id": "3w6NJ1ybQo2o",
    "outputId": "0a4baa04-d3db-48e9-a231-c0d7f9a1d8c0"
   },
   "id": "3w6NJ1ybQo2o"
  },
  {
   "cell_type": "code",
   "execution_count": null,
   "outputs": [
    {
     "name": "stdout",
     "output_type": "stream",
     "text": [
      "tensor([[1, 1, 1],\n",
      "        [1, 1, 1],\n",
      "        [1, 1, 1],\n",
      "        [1, 1, 1],\n",
      "        [1, 1, 1]])\n"
     ]
    }
   ],
   "source": [
    "# 创建一个形状和x一样，里面全是1的张量\n",
    "y = torch.ones_like(x)\n",
    "print(y)"
   ],
   "metadata": {
    "pycharm": {
     "name": "#%%\n"
    },
    "id": "5niRPlPTQo2p",
    "outputId": "a7758171-e579-437a-dae1-e7d8b80996dd"
   },
   "id": "5niRPlPTQo2p"
  },
  {
   "cell_type": "code",
   "execution_count": null,
   "outputs": [
    {
     "name": "stdout",
     "output_type": "stream",
     "text": [
      "tensor([[0.0710, 0.0897, 0.7569],\n",
      "        [0.8559, 0.0118, 0.4946],\n",
      "        [0.1315, 0.1092, 0.3220],\n",
      "        [0.3196, 0.6659, 0.4696],\n",
      "        [0.8902, 0.0434, 0.6166]])\n"
     ]
    }
   ],
   "source": [
    "# 创建一个形状和x一样，每个元素随机的张量\n",
    "x = torch.rand_like(x, dtype=torch.float)\n",
    "print(x)"
   ],
   "metadata": {
    "pycharm": {
     "name": "#%%\n"
    },
    "id": "53Vwi030Qo2q",
    "outputId": "8197f8e1-2adb-4a7e-a8d7-d75b00170a05"
   },
   "id": "53Vwi030Qo2q"
  },
  {
   "cell_type": "code",
   "execution_count": null,
   "id": "3cc0cbbe-5599-4353-a55e-f466b6d5f014",
   "metadata": {
    "id": "3cc0cbbe-5599-4353-a55e-f466b6d5f014",
    "outputId": "4e6ac547-a79c-45e8-ebf2-007d337a307e"
   },
   "outputs": [
    {
     "name": "stdout",
     "output_type": "stream",
     "text": [
      "torch.Size([16])\n",
      "torch.Size([16])\n",
      "torch.Size([2, 2, 4])\n",
      "torch.Size([2, 2, 4])\n"
     ]
    }
   ],
   "source": [
    "# 修改张量的shape\n",
    "x = torch.randn(4, 4)\n",
    "\n",
    "\n",
    "y = x.view(-1)\n",
    "y1 = x.view(16)\n",
    "print(y.shape)\n",
    "print(y1.shape)\n",
    "\n",
    "# -1的作用是让这个维度的值取决于其他维度（最后决定）\n",
    "z = x.view(2, 2,-1)\n",
    "z1 = x.view(2, 2, 4)\n",
    "print(z.shape)\n",
    "print(z1.shape)"
   ]
  },
  {
   "cell_type": "code",
   "execution_count": null,
   "id": "197d359c-b7a8-43a1-86ed-ab13aee00e62",
   "metadata": {
    "id": "197d359c-b7a8-43a1-86ed-ab13aee00e62",
    "outputId": "9cac066c-a340-4cb1-aafd-9cbdeec762ff"
   },
   "outputs": [
    {
     "name": "stdout",
     "output_type": "stream",
     "text": [
      "torch.Size([1, 2, 3])\n",
      "torch.Size([2, 1, 3])\n",
      "torch.Size([2, 3, 1])\n"
     ]
    }
   ],
   "source": [
    "# 在指定dim出插入1维度\n",
    "x = torch.zeros([2,3])\n",
    "print(x.unsqueeze(0).shape)\n",
    "print(x.unsqueeze(1).shape)\n",
    "print(x.unsqueeze(2).shape)"
   ]
  },
  {
   "cell_type": "code",
   "execution_count": null,
   "id": "5301a012-e336-4f48-9eb7-d3c632c01ee8",
   "metadata": {
    "pycharm": {
     "name": "#%%\n"
    },
    "id": "5301a012-e336-4f48-9eb7-d3c632c01ee8",
    "outputId": "fcf54680-6339-460d-d5e6-b878115b6de7"
   },
   "outputs": [
    {
     "name": "stdout",
     "output_type": "stream",
     "text": [
      "torch.Size([2, 3, 1])\n",
      "torch.Size([1, 2, 3, 1])\n",
      "torch.Size([1, 2, 3, 1])\n",
      "torch.Size([1, 2, 3])\n"
     ]
    }
   ],
   "source": [
    "# 在指定dim出删除1维（当且仅当dim处值为1才有效）\n",
    "x = torch.zeros([1,2,3,1])\n",
    "print(x.squeeze(0).shape)\n",
    "print(x.squeeze(1).shape)\n",
    "print(x.squeeze(2).shape)\n",
    "print(x.squeeze(3).shape)"
   ]
  }
 ],
 "metadata": {
  "kernelspec": {
   "display_name": "Python 3 (ipykernel)",
   "language": "python",
   "name": "python3"
  },
  "language_info": {
   "codemirror_mode": {
    "name": "ipython",
    "version": 3
   },
   "file_extension": ".py",
   "mimetype": "text/x-python",
   "name": "python",
   "nbconvert_exporter": "python",
   "pygments_lexer": "ipython3",
   "version": "3.9.7"
  },
  "colab": {
   "name": "tensor.ipynb",
   "provenance": [],
   "collapsed_sections": []
  }
 },
 "nbformat": 4,
 "nbformat_minor": 5
}